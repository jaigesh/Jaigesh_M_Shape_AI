{
  "nbformat": 4,
  "nbformat_minor": 0,
  "metadata": {
    "colab": {
      "name": "Jaigesh_M_Shape_AI",
      "provenance": []
    },
    "kernelspec": {
      "name": "python3",
      "display_name": "Python 3"
    },
    "language_info": {
      "name": "python"
    }
  },
  "cells": [
    {
      "cell_type": "code",
      "metadata": {
        "colab": {
          "base_uri": "https://localhost:8080/",
          "height": 305
        },
        "id": "J52L_VnL-VMz",
        "outputId": "f763d70a-92d6-4090-b8fd-fc110afdb635"
      },
      "source": [
        "import pandas as pd\n",
        "import numpy as np\n",
        "import matplotlib.pyplot as plt\n",
        "import seaborn as sb\n",
        "%matplotlib inline\n",
        "\n",
        "TI = pd.read_csv('/content/train (1).csv')\n",
        "print(TI.shape)\n",
        "TI.head()\n",
        "TI.isnull().any()\n",
        "TI.isna().sum()\n",
        "base_color = sb.color_palette()[2]\n",
        "sb.countplot(data = TI, x = 'PassengerId', color = 'cyan')\n",
        "plt.xticks(rotation=90);\n"
      ],
      "execution_count": 23,
      "outputs": [
        {
          "output_type": "stream",
          "text": [
            "(891, 12)\n"
          ],
          "name": "stdout"
        },
        {
          "output_type": "display_data",
          "data": {
            "image/png": "[encoded data removed]",
            "text/plain": [
              "<Figure size 432x288 with 1 Axes>"
            ]
          },
          "metadata": {
            "tags": [],
            "needs_background": "light"
          }
        }
      ]
    }
  ]
}